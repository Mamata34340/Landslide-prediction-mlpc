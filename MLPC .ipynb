{
  "nbformat": 4,
  "nbformat_minor": 0,
  "metadata": {
    "colab": {
      "provenance": []
    },
    "kernelspec": {
      "name": "python3",
      "display_name": "Python 3"
    },
    "language_info": {
      "name": "python"
    }
  },
  "cells": [
    {
      "cell_type": "code",
      "execution_count": 1,
      "metadata": {
        "colab": {
          "base_uri": "https://localhost:8080/"
        },
        "id": "LvWxRsnLl4nU",
        "outputId": "c37f25f8-0e77-4124-9de8-4c435cd264ff"
      },
      "outputs": [
        {
          "output_type": "stream",
          "name": "stdout",
          "text": [
            "Requirement already satisfied: dask in /usr/local/lib/python3.11/dist-packages (2025.5.0)\n",
            "Requirement already satisfied: pandas in /usr/local/lib/python3.11/dist-packages (2.2.2)\n",
            "Requirement already satisfied: xgboost in /usr/local/lib/python3.11/dist-packages (2.1.4)\n",
            "Requirement already satisfied: scikit-learn in /usr/local/lib/python3.11/dist-packages (1.6.1)\n",
            "Requirement already satisfied: click>=8.1 in /usr/local/lib/python3.11/dist-packages (from dask) (8.2.1)\n",
            "Requirement already satisfied: cloudpickle>=3.0.0 in /usr/local/lib/python3.11/dist-packages (from dask) (3.1.1)\n",
            "Requirement already satisfied: fsspec>=2021.09.0 in /usr/local/lib/python3.11/dist-packages (from dask) (2025.3.2)\n",
            "Requirement already satisfied: packaging>=20.0 in /usr/local/lib/python3.11/dist-packages (from dask) (25.0)\n",
            "Requirement already satisfied: partd>=1.4.0 in /usr/local/lib/python3.11/dist-packages (from dask) (1.4.2)\n",
            "Requirement already satisfied: pyyaml>=5.3.1 in /usr/local/lib/python3.11/dist-packages (from dask) (6.0.2)\n",
            "Requirement already satisfied: toolz>=0.10.0 in /usr/local/lib/python3.11/dist-packages (from dask) (0.12.1)\n",
            "Requirement already satisfied: importlib_metadata>=4.13.0 in /usr/local/lib/python3.11/dist-packages (from dask) (8.7.0)\n",
            "Requirement already satisfied: numpy>=1.23.2 in /usr/local/lib/python3.11/dist-packages (from pandas) (2.0.2)\n",
            "Requirement already satisfied: python-dateutil>=2.8.2 in /usr/local/lib/python3.11/dist-packages (from pandas) (2.9.0.post0)\n",
            "Requirement already satisfied: pytz>=2020.1 in /usr/local/lib/python3.11/dist-packages (from pandas) (2025.2)\n",
            "Requirement already satisfied: tzdata>=2022.7 in /usr/local/lib/python3.11/dist-packages (from pandas) (2025.2)\n",
            "Requirement already satisfied: nvidia-nccl-cu12 in /usr/local/lib/python3.11/dist-packages (from xgboost) (2.21.5)\n",
            "Requirement already satisfied: scipy in /usr/local/lib/python3.11/dist-packages (from xgboost) (1.15.3)\n",
            "Requirement already satisfied: joblib>=1.2.0 in /usr/local/lib/python3.11/dist-packages (from scikit-learn) (1.5.1)\n",
            "Requirement already satisfied: threadpoolctl>=3.1.0 in /usr/local/lib/python3.11/dist-packages (from scikit-learn) (3.6.0)\n",
            "Requirement already satisfied: zipp>=3.20 in /usr/local/lib/python3.11/dist-packages (from importlib_metadata>=4.13.0->dask) (3.23.0)\n",
            "Requirement already satisfied: locket in /usr/local/lib/python3.11/dist-packages (from partd>=1.4.0->dask) (1.0.0)\n",
            "Requirement already satisfied: six>=1.5 in /usr/local/lib/python3.11/dist-packages (from python-dateutil>=2.8.2->pandas) (1.17.0)\n"
          ]
        }
      ],
      "source": [
        "!pip install dask pandas xgboost scikit-learn\n"
      ]
    },
    {
      "cell_type": "code",
      "source": [
        "import dask.dataframe as dd\n",
        "import pandas as pd\n",
        "import numpy as np\n",
        "import xgboost as xgb\n",
        "from sklearn.model_selection import train_test_split\n",
        "from sklearn.preprocessing import StandardScaler\n",
        "from sklearn.metrics import classification_report, accuracy_score\n"
      ],
      "metadata": {
        "id": "6VpzE613mIqr"
      },
      "execution_count": 2,
      "outputs": []
    },
    {
      "cell_type": "code",
      "source": [
        "# Load dataset using Pandas\n",
        "\n",
        "df = pd.read_csv('Global_Landslide_Catalog_Export_rows.csv', encoding='ISO-8859-1', dtype={'admin_division_population': 'float64', 'event_import_id': 'float64', 'notes': 'object'}) # encoding and dtype added for compatibility\n",
        "df.head()"
      ],
      "metadata": {
        "colab": {
          "base_uri": "https://localhost:8080/",
          "height": 516
        },
        "id": "f1giPepamSCz",
        "outputId": "f69465ed-a2e2-4db9-e1cd-9a36fd064224"
      },
      "execution_count": 3,
      "outputs": [
        {
          "output_type": "execute_result",
          "data": {
            "text/plain": [
              "   source_name                                        source_link  event_id  \\\n",
              "0          AGU  https://blogs.agu.org/landslideblog/2008/10/14...       684   \n",
              "1    Oregonian  http://www.oregonlive.com/news/index.ssf/2009/...       956   \n",
              "2     CBS News  https://www.cbsnews.com/news/dozens-missing-af...       973   \n",
              "3      Reuters  https://in.reuters.com/article/idINIndia-41450...      1067   \n",
              "4  The Freeman  http://www.philstar.com/cebu-news/621414/lands...      2603   \n",
              "\n",
              "               event_date  event_time  \\\n",
              "0  08/01/2008 12:00:00 AM         NaN   \n",
              "1  01/02/2009 02:00:00 AM         NaN   \n",
              "2  01/19/2007 12:00:00 AM         NaN   \n",
              "3  07/31/2009 12:00:00 AM         NaN   \n",
              "4  10/16/2010 12:00:00 PM         NaN   \n",
              "\n",
              "                                         event_title  \\\n",
              "0      Sigou Village, Loufan County, Shanxi Province   \n",
              "1                                Lake Oswego, Oregon   \n",
              "2  San Ramon district, 195 miles northeast of the...   \n",
              "3                                   Dailekh district   \n",
              "4                    sitio Bakilid in barangay Lahug   \n",
              "\n",
              "                                   event_description  \\\n",
              "0  occurred early in morning, 11 villagers buried...   \n",
              "1  Hours of heavy rain are to blame for an overni...   \n",
              "2  (CBS/AP) At least 10 people died and as many a...   \n",
              "3  One person was killed in Dailekh district, pol...   \n",
              "4  Another landslide in sitio Bakilid in barangay...   \n",
              "\n",
              "                                location_description location_accuracy  \\\n",
              "0      Sigou Village, Loufan County, Shanxi Province           unknown   \n",
              "1                                Lake Oswego, Oregon               5km   \n",
              "2  San Ramon district, 195 miles northeast of the...              10km   \n",
              "3                                   Dailekh district           unknown   \n",
              "4                    sitio Bakilid in barangay Lahug               5km   \n",
              "\n",
              "  landslide_category  ... country_code admin_division_name  \\\n",
              "0          landslide  ...           CN             Shaanxi   \n",
              "1           mudslide  ...           US              Oregon   \n",
              "2          landslide  ...           PE              JunÃ­n   \n",
              "3          landslide  ...           NP         Mid Western   \n",
              "4          landslide  ...           PH     Central Visayas   \n",
              "\n",
              "  admin_division_population  gazeteer_closest_point  gazeteer_distance  \\\n",
              "0                       0.0                Jingyang           41.02145   \n",
              "1                   36619.0             Lake Oswego            0.60342   \n",
              "2                   14708.0              San RamÃ³n            0.85548   \n",
              "3                   20908.0                 Dailekh            0.75395   \n",
              "4                  798634.0               Cebu City            2.02204   \n",
              "\n",
              "           submitted_date            created_date        last_edited_date  \\\n",
              "0  04/01/2014 12:00:00 AM  11/20/2017 03:17:00 PM  02/15/2018 03:51:00 PM   \n",
              "1  04/01/2014 12:00:00 AM  11/20/2017 03:17:00 PM  02/15/2018 03:51:00 PM   \n",
              "2  04/01/2014 12:00:00 AM  11/20/2017 03:17:00 PM  02/15/2018 03:51:00 PM   \n",
              "3  04/01/2014 12:00:00 AM  11/20/2017 03:17:00 PM  02/15/2018 03:51:00 PM   \n",
              "4  04/01/2014 12:00:00 AM  11/20/2017 03:17:00 PM  02/15/2018 03:51:00 PM   \n",
              "\n",
              "  longitude  latitude  \n",
              "0  107.4500   32.5625  \n",
              "1 -122.6630   45.4200  \n",
              "2  -75.3587  -11.1295  \n",
              "3   81.7080   28.8378  \n",
              "4  123.8978   10.3336  \n",
              "\n",
              "[5 rows x 31 columns]"
            ],
            "text/html": [
              "\n",
              "  <div id=\"df-1a6f1da1-0bc2-4d13-89fb-3f19957cbdcc\" class=\"colab-df-container\">\n",
              "    <div>\n",
              "<style scoped>\n",
              "    .dataframe tbody tr th:only-of-type {\n",
              "        vertical-align: middle;\n",
              "    }\n",
              "\n",
              "    .dataframe tbody tr th {\n",
              "        vertical-align: top;\n",
              "    }\n",
              "\n",
              "    .dataframe thead th {\n",
              "        text-align: right;\n",
              "    }\n",
              "</style>\n",
              "<table border=\"1\" class=\"dataframe\">\n",
              "  <thead>\n",
              "    <tr style=\"text-align: right;\">\n",
              "      <th></th>\n",
              "      <th>source_name</th>\n",
              "      <th>source_link</th>\n",
              "      <th>event_id</th>\n",
              "      <th>event_date</th>\n",
              "      <th>event_time</th>\n",
              "      <th>event_title</th>\n",
              "      <th>event_description</th>\n",
              "      <th>location_description</th>\n",
              "      <th>location_accuracy</th>\n",
              "      <th>landslide_category</th>\n",
              "      <th>...</th>\n",
              "      <th>country_code</th>\n",
              "      <th>admin_division_name</th>\n",
              "      <th>admin_division_population</th>\n",
              "      <th>gazeteer_closest_point</th>\n",
              "      <th>gazeteer_distance</th>\n",
              "      <th>submitted_date</th>\n",
              "      <th>created_date</th>\n",
              "      <th>last_edited_date</th>\n",
              "      <th>longitude</th>\n",
              "      <th>latitude</th>\n",
              "    </tr>\n",
              "  </thead>\n",
              "  <tbody>\n",
              "    <tr>\n",
              "      <th>0</th>\n",
              "      <td>AGU</td>\n",
              "      <td>https://blogs.agu.org/landslideblog/2008/10/14...</td>\n",
              "      <td>684</td>\n",
              "      <td>08/01/2008 12:00:00 AM</td>\n",
              "      <td>NaN</td>\n",
              "      <td>Sigou Village, Loufan County, Shanxi Province</td>\n",
              "      <td>occurred early in morning, 11 villagers buried...</td>\n",
              "      <td>Sigou Village, Loufan County, Shanxi Province</td>\n",
              "      <td>unknown</td>\n",
              "      <td>landslide</td>\n",
              "      <td>...</td>\n",
              "      <td>CN</td>\n",
              "      <td>Shaanxi</td>\n",
              "      <td>0.0</td>\n",
              "      <td>Jingyang</td>\n",
              "      <td>41.02145</td>\n",
              "      <td>04/01/2014 12:00:00 AM</td>\n",
              "      <td>11/20/2017 03:17:00 PM</td>\n",
              "      <td>02/15/2018 03:51:00 PM</td>\n",
              "      <td>107.4500</td>\n",
              "      <td>32.5625</td>\n",
              "    </tr>\n",
              "    <tr>\n",
              "      <th>1</th>\n",
              "      <td>Oregonian</td>\n",
              "      <td>http://www.oregonlive.com/news/index.ssf/2009/...</td>\n",
              "      <td>956</td>\n",
              "      <td>01/02/2009 02:00:00 AM</td>\n",
              "      <td>NaN</td>\n",
              "      <td>Lake Oswego, Oregon</td>\n",
              "      <td>Hours of heavy rain are to blame for an overni...</td>\n",
              "      <td>Lake Oswego, Oregon</td>\n",
              "      <td>5km</td>\n",
              "      <td>mudslide</td>\n",
              "      <td>...</td>\n",
              "      <td>US</td>\n",
              "      <td>Oregon</td>\n",
              "      <td>36619.0</td>\n",
              "      <td>Lake Oswego</td>\n",
              "      <td>0.60342</td>\n",
              "      <td>04/01/2014 12:00:00 AM</td>\n",
              "      <td>11/20/2017 03:17:00 PM</td>\n",
              "      <td>02/15/2018 03:51:00 PM</td>\n",
              "      <td>-122.6630</td>\n",
              "      <td>45.4200</td>\n",
              "    </tr>\n",
              "    <tr>\n",
              "      <th>2</th>\n",
              "      <td>CBS News</td>\n",
              "      <td>https://www.cbsnews.com/news/dozens-missing-af...</td>\n",
              "      <td>973</td>\n",
              "      <td>01/19/2007 12:00:00 AM</td>\n",
              "      <td>NaN</td>\n",
              "      <td>San Ramon district, 195 miles northeast of the...</td>\n",
              "      <td>(CBS/AP) At least 10 people died and as many a...</td>\n",
              "      <td>San Ramon district, 195 miles northeast of the...</td>\n",
              "      <td>10km</td>\n",
              "      <td>landslide</td>\n",
              "      <td>...</td>\n",
              "      <td>PE</td>\n",
              "      <td>JunÃ­n</td>\n",
              "      <td>14708.0</td>\n",
              "      <td>San RamÃ³n</td>\n",
              "      <td>0.85548</td>\n",
              "      <td>04/01/2014 12:00:00 AM</td>\n",
              "      <td>11/20/2017 03:17:00 PM</td>\n",
              "      <td>02/15/2018 03:51:00 PM</td>\n",
              "      <td>-75.3587</td>\n",
              "      <td>-11.1295</td>\n",
              "    </tr>\n",
              "    <tr>\n",
              "      <th>3</th>\n",
              "      <td>Reuters</td>\n",
              "      <td>https://in.reuters.com/article/idINIndia-41450...</td>\n",
              "      <td>1067</td>\n",
              "      <td>07/31/2009 12:00:00 AM</td>\n",
              "      <td>NaN</td>\n",
              "      <td>Dailekh district</td>\n",
              "      <td>One person was killed in Dailekh district, pol...</td>\n",
              "      <td>Dailekh district</td>\n",
              "      <td>unknown</td>\n",
              "      <td>landslide</td>\n",
              "      <td>...</td>\n",
              "      <td>NP</td>\n",
              "      <td>Mid Western</td>\n",
              "      <td>20908.0</td>\n",
              "      <td>Dailekh</td>\n",
              "      <td>0.75395</td>\n",
              "      <td>04/01/2014 12:00:00 AM</td>\n",
              "      <td>11/20/2017 03:17:00 PM</td>\n",
              "      <td>02/15/2018 03:51:00 PM</td>\n",
              "      <td>81.7080</td>\n",
              "      <td>28.8378</td>\n",
              "    </tr>\n",
              "    <tr>\n",
              "      <th>4</th>\n",
              "      <td>The Freeman</td>\n",
              "      <td>http://www.philstar.com/cebu-news/621414/lands...</td>\n",
              "      <td>2603</td>\n",
              "      <td>10/16/2010 12:00:00 PM</td>\n",
              "      <td>NaN</td>\n",
              "      <td>sitio Bakilid in barangay Lahug</td>\n",
              "      <td>Another landslide in sitio Bakilid in barangay...</td>\n",
              "      <td>sitio Bakilid in barangay Lahug</td>\n",
              "      <td>5km</td>\n",
              "      <td>landslide</td>\n",
              "      <td>...</td>\n",
              "      <td>PH</td>\n",
              "      <td>Central Visayas</td>\n",
              "      <td>798634.0</td>\n",
              "      <td>Cebu City</td>\n",
              "      <td>2.02204</td>\n",
              "      <td>04/01/2014 12:00:00 AM</td>\n",
              "      <td>11/20/2017 03:17:00 PM</td>\n",
              "      <td>02/15/2018 03:51:00 PM</td>\n",
              "      <td>123.8978</td>\n",
              "      <td>10.3336</td>\n",
              "    </tr>\n",
              "  </tbody>\n",
              "</table>\n",
              "<p>5 rows × 31 columns</p>\n",
              "</div>\n",
              "    <div class=\"colab-df-buttons\">\n",
              "\n",
              "  <div class=\"colab-df-container\">\n",
              "    <button class=\"colab-df-convert\" onclick=\"convertToInteractive('df-1a6f1da1-0bc2-4d13-89fb-3f19957cbdcc')\"\n",
              "            title=\"Convert this dataframe to an interactive table.\"\n",
              "            style=\"display:none;\">\n",
              "\n",
              "  <svg xmlns=\"http://www.w3.org/2000/svg\" height=\"24px\" viewBox=\"0 -960 960 960\">\n",
              "    <path d=\"M120-120v-720h720v720H120Zm60-500h600v-160H180v160Zm220 220h160v-160H400v160Zm0 220h160v-160H400v160ZM180-400h160v-160H180v160Zm440 0h160v-160H620v160ZM180-180h160v-160H180v160Zm440 0h160v-160H620v160Z\"/>\n",
              "  </svg>\n",
              "    </button>\n",
              "\n",
              "  <style>\n",
              "    .colab-df-container {\n",
              "      display:flex;\n",
              "      gap: 12px;\n",
              "    }\n",
              "\n",
              "    .colab-df-convert {\n",
              "      background-color: #E8F0FE;\n",
              "      border: none;\n",
              "      border-radius: 50%;\n",
              "      cursor: pointer;\n",
              "      display: none;\n",
              "      fill: #1967D2;\n",
              "      height: 32px;\n",
              "      padding: 0 0 0 0;\n",
              "      width: 32px;\n",
              "    }\n",
              "\n",
              "    .colab-df-convert:hover {\n",
              "      background-color: #E2EBFA;\n",
              "      box-shadow: 0px 1px 2px rgba(60, 64, 67, 0.3), 0px 1px 3px 1px rgba(60, 64, 67, 0.15);\n",
              "      fill: #174EA6;\n",
              "    }\n",
              "\n",
              "    .colab-df-buttons div {\n",
              "      margin-bottom: 4px;\n",
              "    }\n",
              "\n",
              "    [theme=dark] .colab-df-convert {\n",
              "      background-color: #3B4455;\n",
              "      fill: #D2E3FC;\n",
              "    }\n",
              "\n",
              "    [theme=dark] .colab-df-convert:hover {\n",
              "      background-color: #434B5C;\n",
              "      box-shadow: 0px 1px 3px 1px rgba(0, 0, 0, 0.15);\n",
              "      filter: drop-shadow(0px 1px 2px rgba(0, 0, 0, 0.3));\n",
              "      fill: #FFFFFF;\n",
              "    }\n",
              "  </style>\n",
              "\n",
              "    <script>\n",
              "      const buttonEl =\n",
              "        document.querySelector('#df-1a6f1da1-0bc2-4d13-89fb-3f19957cbdcc button.colab-df-convert');\n",
              "      buttonEl.style.display =\n",
              "        google.colab.kernel.accessAllowed ? 'block' : 'none';\n",
              "\n",
              "      async function convertToInteractive(key) {\n",
              "        const element = document.querySelector('#df-1a6f1da1-0bc2-4d13-89fb-3f19957cbdcc');\n",
              "        const dataTable =\n",
              "          await google.colab.kernel.invokeFunction('convertToInteractive',\n",
              "                                                    [key], {});\n",
              "        if (!dataTable) return;\n",
              "\n",
              "        const docLinkHtml = 'Like what you see? Visit the ' +\n",
              "          '<a target=\"_blank\" href=https://colab.research.google.com/notebooks/data_table.ipynb>data table notebook</a>'\n",
              "          + ' to learn more about interactive tables.';\n",
              "        element.innerHTML = '';\n",
              "        dataTable['output_type'] = 'display_data';\n",
              "        await google.colab.output.renderOutput(dataTable, element);\n",
              "        const docLink = document.createElement('div');\n",
              "        docLink.innerHTML = docLinkHtml;\n",
              "        element.appendChild(docLink);\n",
              "      }\n",
              "    </script>\n",
              "  </div>\n",
              "\n",
              "\n",
              "    <div id=\"df-24db7450-0d6d-4ece-be29-3202acebb957\">\n",
              "      <button class=\"colab-df-quickchart\" onclick=\"quickchart('df-24db7450-0d6d-4ece-be29-3202acebb957')\"\n",
              "                title=\"Suggest charts\"\n",
              "                style=\"display:none;\">\n",
              "\n",
              "<svg xmlns=\"http://www.w3.org/2000/svg\" height=\"24px\"viewBox=\"0 0 24 24\"\n",
              "     width=\"24px\">\n",
              "    <g>\n",
              "        <path d=\"M19 3H5c-1.1 0-2 .9-2 2v14c0 1.1.9 2 2 2h14c1.1 0 2-.9 2-2V5c0-1.1-.9-2-2-2zM9 17H7v-7h2v7zm4 0h-2V7h2v10zm4 0h-2v-4h2v4z\"/>\n",
              "    </g>\n",
              "</svg>\n",
              "      </button>\n",
              "\n",
              "<style>\n",
              "  .colab-df-quickchart {\n",
              "      --bg-color: #E8F0FE;\n",
              "      --fill-color: #1967D2;\n",
              "      --hover-bg-color: #E2EBFA;\n",
              "      --hover-fill-color: #174EA6;\n",
              "      --disabled-fill-color: #AAA;\n",
              "      --disabled-bg-color: #DDD;\n",
              "  }\n",
              "\n",
              "  [theme=dark] .colab-df-quickchart {\n",
              "      --bg-color: #3B4455;\n",
              "      --fill-color: #D2E3FC;\n",
              "      --hover-bg-color: #434B5C;\n",
              "      --hover-fill-color: #FFFFFF;\n",
              "      --disabled-bg-color: #3B4455;\n",
              "      --disabled-fill-color: #666;\n",
              "  }\n",
              "\n",
              "  .colab-df-quickchart {\n",
              "    background-color: var(--bg-color);\n",
              "    border: none;\n",
              "    border-radius: 50%;\n",
              "    cursor: pointer;\n",
              "    display: none;\n",
              "    fill: var(--fill-color);\n",
              "    height: 32px;\n",
              "    padding: 0;\n",
              "    width: 32px;\n",
              "  }\n",
              "\n",
              "  .colab-df-quickchart:hover {\n",
              "    background-color: var(--hover-bg-color);\n",
              "    box-shadow: 0 1px 2px rgba(60, 64, 67, 0.3), 0 1px 3px 1px rgba(60, 64, 67, 0.15);\n",
              "    fill: var(--button-hover-fill-color);\n",
              "  }\n",
              "\n",
              "  .colab-df-quickchart-complete:disabled,\n",
              "  .colab-df-quickchart-complete:disabled:hover {\n",
              "    background-color: var(--disabled-bg-color);\n",
              "    fill: var(--disabled-fill-color);\n",
              "    box-shadow: none;\n",
              "  }\n",
              "\n",
              "  .colab-df-spinner {\n",
              "    border: 2px solid var(--fill-color);\n",
              "    border-color: transparent;\n",
              "    border-bottom-color: var(--fill-color);\n",
              "    animation:\n",
              "      spin 1s steps(1) infinite;\n",
              "  }\n",
              "\n",
              "  @keyframes spin {\n",
              "    0% {\n",
              "      border-color: transparent;\n",
              "      border-bottom-color: var(--fill-color);\n",
              "      border-left-color: var(--fill-color);\n",
              "    }\n",
              "    20% {\n",
              "      border-color: transparent;\n",
              "      border-left-color: var(--fill-color);\n",
              "      border-top-color: var(--fill-color);\n",
              "    }\n",
              "    30% {\n",
              "      border-color: transparent;\n",
              "      border-left-color: var(--fill-color);\n",
              "      border-top-color: var(--fill-color);\n",
              "      border-right-color: var(--fill-color);\n",
              "    }\n",
              "    40% {\n",
              "      border-color: transparent;\n",
              "      border-right-color: var(--fill-color);\n",
              "      border-top-color: var(--fill-color);\n",
              "    }\n",
              "    60% {\n",
              "      border-color: transparent;\n",
              "      border-right-color: var(--fill-color);\n",
              "    }\n",
              "    80% {\n",
              "      border-color: transparent;\n",
              "      border-right-color: var(--fill-color);\n",
              "      border-bottom-color: var(--fill-color);\n",
              "    }\n",
              "    90% {\n",
              "      border-color: transparent;\n",
              "      border-bottom-color: var(--fill-color);\n",
              "    }\n",
              "  }\n",
              "</style>\n",
              "\n",
              "      <script>\n",
              "        async function quickchart(key) {\n",
              "          const quickchartButtonEl =\n",
              "            document.querySelector('#' + key + ' button');\n",
              "          quickchartButtonEl.disabled = true;  // To prevent multiple clicks.\n",
              "          quickchartButtonEl.classList.add('colab-df-spinner');\n",
              "          try {\n",
              "            const charts = await google.colab.kernel.invokeFunction(\n",
              "                'suggestCharts', [key], {});\n",
              "          } catch (error) {\n",
              "            console.error('Error during call to suggestCharts:', error);\n",
              "          }\n",
              "          quickchartButtonEl.classList.remove('colab-df-spinner');\n",
              "          quickchartButtonEl.classList.add('colab-df-quickchart-complete');\n",
              "        }\n",
              "        (() => {\n",
              "          let quickchartButtonEl =\n",
              "            document.querySelector('#df-24db7450-0d6d-4ece-be29-3202acebb957 button');\n",
              "          quickchartButtonEl.style.display =\n",
              "            google.colab.kernel.accessAllowed ? 'block' : 'none';\n",
              "        })();\n",
              "      </script>\n",
              "    </div>\n",
              "\n",
              "    </div>\n",
              "  </div>\n"
            ],
            "application/vnd.google.colaboratory.intrinsic+json": {
              "type": "dataframe",
              "variable_name": "df"
            }
          },
          "metadata": {},
          "execution_count": 3
        }
      ]
    },
    {
      "cell_type": "markdown",
      "source": [
        "#Preproscessing"
      ],
      "metadata": {
        "id": "Awd3DhHb3NZI"
      }
    },
    {
      "cell_type": "code",
      "source": [
        "# Select necessary columns\n",
        "df = df[['event_date', 'latitude', 'longitude', 'country_name', 'country_code', 'landslide_category',\n",
        "         'landslide_size', 'fatality_count', 'injury_count', 'storm_name', 'landslide_trigger']]"
      ],
      "metadata": {
        "id": "TXsnOpO2nPsI"
      },
      "execution_count": 4,
      "outputs": []
    },
    {
      "cell_type": "code",
      "source": [
        "# Convert 'event_date' column to datetime\n",
        "df['event_date'] = pd.to_datetime(df['event_date'], errors='coerce')\n",
        "\n",
        "# Drop rows where 'event_date' conversion failed\n",
        "df = df.dropna(subset=['event_date'])"
      ],
      "metadata": {
        "colab": {
          "base_uri": "https://localhost:8080/"
        },
        "id": "slwaQESCm5T1",
        "outputId": "e31b8cfb-8276-4221-f6a6-1d6b16df15f0"
      },
      "execution_count": 5,
      "outputs": [
        {
          "output_type": "stream",
          "name": "stderr",
          "text": [
            "/tmp/ipython-input-5-1659964569.py:2: UserWarning: Could not infer format, so each element will be parsed individually, falling back to `dateutil`. To ensure parsing is consistent and as-expected, please specify a format.\n",
            "  df['event_date'] = pd.to_datetime(df['event_date'], errors='coerce')\n"
          ]
        }
      ]
    },
    {
      "cell_type": "code",
      "source": [
        "# Drop missing data\n",
        "df = df.dropna()"
      ],
      "metadata": {
        "id": "5JAsMDtRnb03"
      },
      "execution_count": 6,
      "outputs": []
    },
    {
      "cell_type": "code",
      "source": [
        "# Encode categorical features\n",
        "df = dd.get_dummies(df, columns=['country_code', 'landslide_category', 'landslide_size', 'storm_name'])"
      ],
      "metadata": {
        "id": "dpzqBLndnpfm"
      },
      "execution_count": 7,
      "outputs": []
    },
    {
      "cell_type": "code",
      "source": [
        "# Convert to pandas dataframe for model training\n",
        "df = df"
      ],
      "metadata": {
        "id": "COeQPLfzn9v3"
      },
      "execution_count": 8,
      "outputs": []
    },
    {
      "cell_type": "code",
      "metadata": {
        "colab": {
          "base_uri": "https://localhost:8080/"
        },
        "id": "28788c46",
        "outputId": "fbca9a58-56b1-4938-dfa3-03f83c7af109"
      },
      "source": [
        "# Check for any remaining missing values\n",
        "print(\"Missing values before handling:\")\n",
        "print(df.isnull().sum())\n",
        "\n",
        "# Drop any remaining rows with missing values\n",
        "df = df.dropna()\n",
        "\n",
        "print(\"\\nMissing values after handling:\")\n",
        "print(df.isnull().sum())"
      ],
      "execution_count": 9,
      "outputs": [
        {
          "output_type": "stream",
          "name": "stdout",
          "text": [
            "Missing values before handling:\n",
            "event_date                     0\n",
            "latitude                       0\n",
            "longitude                      0\n",
            "country_name                   0\n",
            "fatality_count                 0\n",
            "                              ..\n",
            "storm_name_Usagi               0\n",
            "storm_name_Utor                0\n",
            "storm_name_Winnie              0\n",
            "storm_name_cold front No. 7    0\n",
            "storm_name_nÃºmero 38          0\n",
            "Length: 89, dtype: int64\n",
            "\n",
            "Missing values after handling:\n",
            "event_date                     0\n",
            "latitude                       0\n",
            "longitude                      0\n",
            "country_name                   0\n",
            "fatality_count                 0\n",
            "                              ..\n",
            "storm_name_Usagi               0\n",
            "storm_name_Utor                0\n",
            "storm_name_Winnie              0\n",
            "storm_name_cold front No. 7    0\n",
            "storm_name_nÃºmero 38          0\n",
            "Length: 89, dtype: int64\n"
          ]
        }
      ]
    },
    {
      "cell_type": "markdown",
      "source": [
        "#EDA"
      ],
      "metadata": {
        "id": "amdPFRX722Dm"
      }
    },
    {
      "cell_type": "code",
      "source": [
        "import matplotlib.pyplot as plt\n",
        "import seaborn as sns\n",
        "#Top countries by landslide count\n",
        "top_countries = df['country_name'].value_counts().head(10)\n",
        "plt.figure(figsize=(10, 5))\n",
        "sns.barplot(x=top_countries.values, y=top_countries.index, palette='coolwarm')\n",
        "plt.title(\"Top 10 Countries by Number of Landslides\")\n",
        "plt.xlabel(\"Count\")\n",
        "plt.ylabel(\"Country\")\n",
        "plt.tight_layout()\n",
        "plt.show()\n"
      ],
      "metadata": {
        "colab": {
          "base_uri": "https://localhost:8080/",
          "height": 614
        },
        "id": "618jSlAlrdP4",
        "outputId": "4ebca6e8-ad96-4169-dbb2-9558b1180ed1"
      },
      "execution_count": 10,
      "outputs": [
        {
          "output_type": "stream",
          "name": "stderr",
          "text": [
            "/tmp/ipython-input-10-3129575522.py:6: FutureWarning: \n",
            "\n",
            "Passing `palette` without assigning `hue` is deprecated and will be removed in v0.14.0. Assign the `y` variable to `hue` and set `legend=False` for the same effect.\n",
            "\n",
            "  sns.barplot(x=top_countries.values, y=top_countries.index, palette='coolwarm')\n"
          ]
        },
        {
          "output_type": "display_data",
          "data": {
            "text/plain": [
              "<Figure size 1000x500 with 1 Axes>"
            ],
            "image/png": "[encoded data removed]"
          },
          "metadata": {}
        }
      ]
    },
    {
      "cell_type": "code",
      "source": [
        "#Most common landslide triggers\n",
        "plt.figure(figsize=(10, 5))\n",
        "sns.countplot(data=df, y='landslide_trigger', order=df['landslide_trigger'].value_counts().head(10).index, palette='magma')\n",
        "plt.title(\"Top Landslide Triggers\")\n",
        "plt.xlabel(\"Frequency\")\n",
        "plt.ylabel(\"Trigger\")\n",
        "plt.tight_layout()\n",
        "plt.show()"
      ],
      "metadata": {
        "colab": {
          "base_uri": "https://localhost:8080/",
          "height": 614
        },
        "id": "Az4MdGWdr7Zt",
        "outputId": "3ec376c8-d120-4c0b-f568-e7f8f15c0782"
      },
      "execution_count": null,
      "outputs": [
        {
          "output_type": "stream",
          "name": "stderr",
          "text": [
            "/tmp/ipython-input-65-2186067716.py:3: FutureWarning: \n",
            "\n",
            "Passing `palette` without assigning `hue` is deprecated and will be removed in v0.14.0. Assign the `y` variable to `hue` and set `legend=False` for the same effect.\n",
            "\n",
            "  sns.countplot(data=df, y='landslide_trigger', order=df['landslide_trigger'].value_counts().head(10).index, palette='magma')\n"
          ]
        },
        {
          "output_type": "display_data",
          "data": {
            "text/plain": [
              "<Figure size 1000x500 with 1 Axes>"
            ],
            "image/png": "[encoded data removed]"
          },
          "metadata": {}
        }
      ]
    },
    {
      "cell_type": "code",
      "source": [
        "#Fatalities distribution\n",
        "plt.figure(figsize=(10, 5))\n",
        "sns.histplot(df['fatality_count'].dropna(), bins=30, kde=True, color='salmon')\n",
        "plt.title(\"Distribution of Fatalities in Landslides\")\n",
        "plt.xlabel(\"Fatality Count\")\n",
        "plt.ylabel(\"Frequency\")\n",
        "plt.tight_layout()\n",
        "plt.show()"
      ],
      "metadata": {
        "colab": {
          "base_uri": "https://localhost:8080/",
          "height": 507
        },
        "id": "_TcbuiTYsCPQ",
        "outputId": "e4aa54c6-f901-4ae5-ea44-67e15b73be90"
      },
      "execution_count": null,
      "outputs": [
        {
          "output_type": "display_data",
          "data": {
            "text/plain": [
              "<Figure size 1000x500 with 1 Axes>"
            ],
            "image/png": "[encoded data removed]"
          },
          "metadata": {}
        }
      ]
    },
    {
      "cell_type": "code",
      "source": [
        "import pandas as pd\n",
        "import seaborn as sns\n",
        "import matplotlib.pyplot as plt\n",
        "\n",
        "# Load your dataset (replace with your actual path if needed)\n",
        "df = pd.read_csv('Global_Landslide_Catalog_Export_rows.csv', encoding='ISO-8859-1')\n",
        "\n",
        "# Select numerical columns for correlation (you can adjust this as needed)\n",
        "numerical_features = ['latitude', 'longitude', 'fatality_count', 'injury_count']\n",
        "\n",
        "# Drop missing values in these columns (optional but recommended)\n",
        "df_corr = df[numerical_features].dropna()\n",
        "\n",
        "# Compute correlation matrix\n",
        "correlation_matrix = df_corr.corr()\n",
        "\n",
        "# Plot heatmap\n",
        "plt.figure(figsize=(8, 6))\n",
        "sns.heatmap(correlation_matrix, annot=True, cmap='coolwarm', linewidths=0.5)\n",
        "plt.title('Correlation Heatmap of Numerical Features')\n",
        "plt.tight_layout()\n",
        "plt.show()\n"
      ],
      "metadata": {
        "colab": {
          "base_uri": "https://localhost:8080/",
          "height": 607
        },
        "id": "lNC5KzcQa006",
        "outputId": "5dbdce26-66f6-4d4c-94a7-a6fdd4f85062"
      },
      "execution_count": 11,
      "outputs": [
        {
          "output_type": "display_data",
          "data": {
            "text/plain": [
              "<Figure size 800x600 with 2 Axes>"
            ],
            "image/png": "[encoded data removed]"
          },
          "metadata": {}
        }
      ]
    },
    {
      "cell_type": "markdown",
      "source": [
        "#Visualization"
      ],
      "metadata": {
        "id": "4ZI6pyh025xg"
      }
    },
    {
      "cell_type": "code",
      "source": [
        "#Map Scatterplot\n",
        "plt.figure(figsize=(10, 6))\n",
        "plt.scatter(df['longitude'], df['latitude'], alpha=0.5, c='green', s=5)\n",
        "plt.title(\"Landslide Event Locations (Global)\")\n",
        "plt.xlabel(\"Longitude\")\n",
        "plt.ylabel(\"Latitude\")\n",
        "plt.grid(True)\n",
        "plt.tight_layout()\n",
        "plt.show()"
      ],
      "metadata": {
        "colab": {
          "base_uri": "https://localhost:8080/",
          "height": 607
        },
        "id": "8tec6DEtsJIO",
        "outputId": "d96fbb7d-d7f3-4092-c3cb-2ac50a5f769d"
      },
      "execution_count": null,
      "outputs": [
        {
          "output_type": "display_data",
          "data": {
            "text/plain": [
              "<Figure size 1000x600 with 1 Axes>"
            ],
            "image/png": "[encoded data removed]"
          },
          "metadata": {}
        }
      ]
    },
    {
      "cell_type": "code",
      "metadata": {
        "colab": {
          "base_uri": "https://localhost:8080/"
        },
        "id": "b13415e3",
        "outputId": "6c3660bf-5530-4505-d98c-9f2849775f84"
      },
      "source": [
        "import pandas as pd\n",
        "\n",
        "# Load dataset with specified dtypes\n",
        "df = pd.read_csv('Global_Landslide_Catalog_Export_rows.csv', encoding='ISO-8859-1', dtype={'admin_division_population': 'float64', 'event_import_id': 'float64', 'notes': 'object'})\n",
        "\n",
        "# Select necessary columns\n",
        "df = df[['event_date', 'latitude', 'longitude', 'country_name', 'country_code', 'landslide_category',\n",
        "         'landslide_size', 'fatality_count', 'injury_count', 'storm_name', 'landslide_trigger']]\n",
        "\n",
        "# Convert 'event_date' column to datetime, specifying the format\n",
        "df['event_date'] = pd.to_datetime(df['event_date'], format='%m/%d/%Y %I:%M:%S %p', errors='coerce')\n",
        "\n",
        "# Drop rows where 'event_date' conversion failed or other selected columns have missing values\n",
        "df = df.dropna(subset=['event_date', 'latitude', 'longitude', 'country_name', 'country_code',\n",
        "                         'landslide_category', 'landslide_size', 'fatality_count',\n",
        "                         'injury_count', 'storm_name', 'landslide_trigger'])\n",
        "\n",
        "print(\"Data loaded and initially cleaned.\")\n",
        "print(df.head())\n",
        "print(\"\\nMissing values after initial cleaning:\")\n",
        "print(df.isnull().sum())"
      ],
      "execution_count": null,
      "outputs": [
        {
          "output_type": "stream",
          "name": "stdout",
          "text": [
            "Data loaded and initially cleaned.\n",
            "    event_date  latitude  longitude country_name country_code  \\\n",
            "472 2014-01-11   11.5515   125.0725  Philippines           PH   \n",
            "473 2014-01-17    8.4406   124.7212  Philippines           PH   \n",
            "515 2014-01-12    8.4987   123.3040  Philippines           PH   \n",
            "580 2016-07-09   26.3140   119.0562        China           CN   \n",
            "597 2015-08-08   25.0857   121.5399       Taiwan           TW   \n",
            "\n",
            "    landslide_category landslide_size  fatality_count  injury_count  \\\n",
            "472          landslide         medium             0.0           0.0   \n",
            "473          landslide         medium             0.0           0.0   \n",
            "515          landslide          large            23.0           1.0   \n",
            "580           mudslide         medium             0.0           2.0   \n",
            "597        debris_flow         medium             0.0           0.0   \n",
            "\n",
            "           storm_name landslide_trigger  \n",
            "472            Agaton  tropical_cyclone  \n",
            "473            Agaton  tropical_cyclone  \n",
            "515            Agaton  tropical_cyclone  \n",
            "580  Typhoon Nepartak  tropical_cyclone  \n",
            "597          Soudelor  tropical_cyclone  \n",
            "\n",
            "Missing values after initial cleaning:\n",
            "event_date            0\n",
            "latitude              0\n",
            "longitude             0\n",
            "country_name          0\n",
            "country_code          0\n",
            "landslide_category    0\n",
            "landslide_size        0\n",
            "fatality_count        0\n",
            "injury_count          0\n",
            "storm_name            0\n",
            "landslide_trigger     0\n",
            "dtype: int64\n"
          ]
        }
      ]
    },
    {
      "cell_type": "markdown",
      "source": [
        "#Model Training,Testing and Evaluation"
      ],
      "metadata": {
        "id": "8fdkSFH73cPZ"
      }
    },
    {
      "cell_type": "code",
      "metadata": {
        "colab": {
          "base_uri": "https://localhost:8080/"
        },
        "id": "3617df7a",
        "outputId": "1ff60761-5c2b-4def-bff0-a153bc40b958"
      },
      "source": [
        "# Split data into features (X) and target (y)\n",
        "X = df.drop('landslide_category', axis=1)\n",
        "y = df['landslide_category']\n",
        "\n",
        "print(\"Data split into features (X) and target (y).\")\n",
        "print(\"X shape:\", X.shape)\n",
        "print(\"y shape:\", y.shape)"
      ],
      "execution_count": null,
      "outputs": [
        {
          "output_type": "stream",
          "name": "stdout",
          "text": [
            "Data split into features (X) and target (y).\n",
            "X shape: (135, 10)\n",
            "y shape: (135,)\n"
          ]
        }
      ]
    },
    {
      "cell_type": "code",
      "metadata": {
        "colab": {
          "base_uri": "https://localhost:8080/"
        },
        "id": "f2a595c4",
        "outputId": "84e64c7b-3ede-491c-b5c4-a7465d8953fa"
      },
      "source": [
        "from sklearn.model_selection import train_test_split\n",
        "\n",
        "# Split data into training and testing sets\n",
        "X_train, X_test, y_train, y_test = train_test_split(X, y, test_size=0.2, random_state=42)\n",
        "\n",
        "print(\"Data split into training and testing sets.\")\n",
        "print(\"X_train shape:\", X_train.shape)\n",
        "print(\"X_test shape:\", X_test.shape)\n",
        "print(\"y_train shape:\", y_train.shape)\n",
        "print(\"y_test shape:\", y_test.shape)"
      ],
      "execution_count": null,
      "outputs": [
        {
          "output_type": "stream",
          "name": "stdout",
          "text": [
            "Data split into training and testing sets.\n",
            "X_train shape: (108, 10)\n",
            "X_test shape: (27, 10)\n",
            "y_train shape: (108,)\n",
            "y_test shape: (27,)\n"
          ]
        }
      ]
    },
    {
      "cell_type": "code",
      "metadata": {
        "colab": {
          "base_uri": "https://localhost:8080/"
        },
        "id": "599c2ce0",
        "outputId": "59235310-d1cb-4224-b076-bda37d214a71"
      },
      "source": [
        "from sklearn.preprocessing import StandardScaler, LabelEncoder\n",
        "import pandas as pd\n",
        "import numpy as np\n",
        "\n",
        "# --- Feature Engineering and Preprocessing on X_train and X_test ---\n",
        "\n",
        "# Convert 'event_date' to datetime and extract features\n",
        "X_train['event_date'] = pd.to_datetime(X_train['event_date'], errors='coerce') # Ensure datetime type\n",
        "X_test['event_date'] = pd.to_datetime(X_test['event_date'], errors='coerce')   # Ensure datetime type\n",
        "\n",
        "\n",
        "# Drop rows where 'event_date' conversion failed after split, and align y_train/y_test\n",
        "initial_train_indices = X_train.index\n",
        "initial_test_indices = X_test.index\n",
        "\n",
        "X_train = X_train.dropna(subset=['event_date'])\n",
        "y_train = y_train.loc[X_train.index] # Use .loc for index alignment\n",
        "\n",
        "X_test = X_test.dropna(subset=['event_date'])\n",
        "y_test = y_test.loc[X_test.index] # Use .loc for index alignment\n",
        "\n",
        "\n",
        "X_train['event_year'] = X_train['event_date'].dt.year\n",
        "X_train['event_month'] = X_train['event_date'].dt.month\n",
        "X_train['event_day'] = X_train['event_date'].dt.day\n",
        "X_train = X_train.drop('event_date', axis=1)\n",
        "\n",
        "X_test['event_year'] = X_test['event_date'].dt.year\n",
        "X_test['event_month'] = X_test['event_date'].dt.month\n",
        "X_test['event_day'] = X_test['event_date'].dt.day\n",
        "X_test = X_test.drop('event_date', axis=1)\n",
        "\n",
        "# Identify categorical columns (excluding the target which is y)\n",
        "categorical_cols = X_train.select_dtypes(include='object').columns\n",
        "\n",
        "# One-hot encode categorical features\n",
        "X_train = pd.get_dummies(X_train, columns=categorical_cols, dummy_na=False)\n",
        "X_test = pd.get_dummies(X_test, columns=categorical_cols, dummy_na=False)\n",
        "\n",
        "# Align columns after one-hot encoding - crucial for consistent feature sets\n",
        "train_cols = X_train.columns\n",
        "X_test = X_test.reindex(columns=train_cols, fill_value=0)\n",
        "\n",
        "# Identify numerical columns after one-hot encoding\n",
        "numerical_cols = X_train.select_dtypes(include=np.number).columns\n",
        "\n",
        "# Initialize and apply StandardScaler to numerical features\n",
        "scaler = StandardScaler()\n",
        "X_train[numerical_cols] = scaler.fit_transform(X_train[numerical_cols])\n",
        "X_test[numerical_cols] = scaler.transform(X_test[numerical_cols])\n",
        "\n",
        "# --- Target Encoding ---\n",
        "\n",
        "# Label encode the target variable\n",
        "le = LabelEncoder()\n",
        "y_train_encoded = le.fit_transform(y_train)\n",
        "y_test_encoded = le.transform(y_test)\n",
        "\n",
        "\n",
        "print(\"Feature Engineering, Preprocessing, and Target Encoding completed.\")\n",
        "print(\"X_train shape after preprocessing:\", X_train.shape)\n",
        "print(\"X_test shape after preprocessing:\", X_test.shape)\n",
        "print(\"y_train_encoded shape:\", y_train_encoded.shape)\n",
        "print(\"y_test_encoded shape:\", y_test_encoded.shape)"
      ],
      "execution_count": null,
      "outputs": [
        {
          "output_type": "stream",
          "name": "stdout",
          "text": [
            "Feature Engineering, Preprocessing, and Target Encoding completed.\n",
            "X_train shape after preprocessing: (108, 91)\n",
            "X_test shape after preprocessing: (27, 91)\n",
            "y_train_encoded shape: (108,)\n",
            "y_test_encoded shape: (27,)\n"
          ]
        }
      ]
    },
    {
      "cell_type": "code",
      "source": [
        "import time\n",
        "import tensorflow as tf\n",
        "import pandas as pd # Import pandas for DataFrame operations\n",
        "from sklearn.model_selection import train_test_split\n",
        "from sklearn.preprocessing import StandardScaler\n",
        "from sklearn.metrics import accuracy_score\n",
        "\n",
        "# Ensure X_train and X_test are float32 dtype for TensorFlow\n",
        "X_train_tf = X_train.astype('float32')\n",
        "X_test_tf = X_test.astype('float32')\n",
        "\n",
        "# Use the encoded target variables\n",
        "y_train_tf = y_train_encoded\n",
        "y_test_tf = y_test_encoded\n",
        "\n",
        "# Get the number of classes from the LabelEncoder\n",
        "num_classes = len(le.classes_)\n",
        "\n",
        "\n",
        "def train_on_device(device_name, X_train_data, y_train_data, X_test_data, y_test_data, num_classes):\n",
        "    with tf.device(device_name):\n",
        "        # Pass num_classes to create_model\n",
        "        model = create_model(X_train_data.shape[1], num_classes)\n",
        "        start_time = time.time()\n",
        "        # Use the preprocessed and encoded data passed as arguments\n",
        "        history = model.fit(X_train_data, y_train_data, epochs=10, batch_size=64, verbose=0)\n",
        "        train_time = time.time() - start_time\n",
        "\n",
        "        # Prediction\n",
        "        start_pred = time.time()\n",
        "        y_pred_probs = model.predict(X_test_data)\n",
        "        pred_time = time.time() - start_pred\n",
        "\n",
        "        # Get the predicted class with the highest probability\n",
        "        y_pred_class = tf.argmax(y_pred_probs, axis=1).numpy()\n",
        "\n",
        "        # Calculate accuracy using the encoded test labels\n",
        "        acc = accuracy_score(y_test_data, y_pred_class)\n",
        "\n",
        "        return {\n",
        "            'device': device_name,\n",
        "            'train_time': round(train_time, 2),\n",
        "            'prediction_time': round(pred_time, 4),\n",
        "            'accuracy': round(acc, 4)\n",
        "        }\n",
        "\n",
        "cpu_result = train_on_device('/CPU:0', X_train_tf, y_train_tf, X_test_tf, y_test_tf, num_classes)\n",
        "\n",
        "# Check if GPU is available\n",
        "if tf.config.list_physical_devices('GPU'):\n",
        "    gpu_result = train_on_device('/GPU:0', X_train_tf, y_train_tf, X_test_tf, y_test_tf, num_classes)\n",
        "else:\n",
        "    gpu_result = {'device': '/GPU:0', 'train_time': '-', 'prediction_time': '-', 'accuracy': '-'}\n",
        "\n",
        "# Show results\n",
        "results_df = pd.DataFrame([cpu_result, gpu_result])\n",
        "print(results_df)"
      ],
      "metadata": {
        "colab": {
          "base_uri": "https://localhost:8080/"
        },
        "id": "PZR9u6a4y9kw",
        "outputId": "2fdfde70-2e7e-4738-c57e-3dad8e8d196d"
      },
      "execution_count": null,
      "outputs": [
        {
          "output_type": "stream",
          "name": "stderr",
          "text": [
            "/usr/local/lib/python3.11/dist-packages/keras/src/layers/core/dense.py:87: UserWarning: Do not pass an `input_shape`/`input_dim` argument to a layer. When using Sequential models, prefer using an `Input(shape)` object as the first layer in the model instead.\n",
            "  super().__init__(activity_regularizer=activity_regularizer, **kwargs)\n",
            "WARNING:tensorflow:5 out of the last 5 calls to <function TensorFlowTrainer.make_predict_function.<locals>.one_step_on_data_distributed at 0x7fefbdef4360> triggered tf.function retracing. Tracing is expensive and the excessive number of tracings could be due to (1) creating @tf.function repeatedly in a loop, (2) passing tensors with different shapes, (3) passing Python objects instead of tensors. For (1), please define your @tf.function outside of the loop. For (2), @tf.function has reduce_retracing=True option that can avoid unnecessary retracing. For (3), please refer to https://www.tensorflow.org/guide/function#controlling_retracing and https://www.tensorflow.org/api_docs/python/tf/function for  more details.\n"
          ]
        },
        {
          "output_type": "stream",
          "name": "stdout",
          "text": [
            "\u001b[1m1/1\u001b[0m \u001b[32m━━━━━━━━━━━━━━━━━━━━\u001b[0m\u001b[37m\u001b[0m \u001b[1m0s\u001b[0m 74ms/step\n",
            "   device train_time prediction_time accuracy\n",
            "0  /CPU:0       1.84          0.1171   0.6667\n",
            "1  /GPU:0          -               -        -\n"
          ]
        }
      ]
    },
    {
      "cell_type": "markdown",
      "source": [
        "#Comparision"
      ],
      "metadata": {
        "id": "y0S4hRZW3sKC"
      }
    },
    {
      "cell_type": "code",
      "source": [
        "import tensorflow as tf\n",
        "print(\"Num GPUs Available:\", len(tf.config.list_physical_devices('GPU')))"
      ],
      "metadata": {
        "colab": {
          "base_uri": "https://localhost:8080/"
        },
        "id": "lgQ9PVntziNc",
        "outputId": "d5dec16f-9d29-404f-cf63-06925e0eb85b"
      },
      "execution_count": null,
      "outputs": [
        {
          "output_type": "stream",
          "name": "stdout",
          "text": [
            "Num GPUs Available: 0\n"
          ]
        }
      ]
    },
    {
      "cell_type": "code",
      "source": [
        "cpu_result = train_on_device('/CPU:0')"
      ],
      "metadata": {
        "colab": {
          "base_uri": "https://localhost:8080/"
        },
        "id": "S7k76fjNzrAd",
        "outputId": "e7610c6c-4ca6-4a6e-ee4a-95b86c567a5d"
      },
      "execution_count": null,
      "outputs": [
        {
          "output_type": "stream",
          "name": "stderr",
          "text": [
            "/usr/local/lib/python3.11/dist-packages/keras/src/layers/core/dense.py:87: UserWarning: Do not pass an `input_shape`/`input_dim` argument to a layer. When using Sequential models, prefer using an `Input(shape)` object as the first layer in the model instead.\n",
            "  super().__init__(activity_regularizer=activity_regularizer, **kwargs)\n"
          ]
        },
        {
          "output_type": "stream",
          "name": "stdout",
          "text": [
            "\u001b[1m1/1\u001b[0m \u001b[32m━━━━━━━━━━━━━━━━━━━━\u001b[0m\u001b[37m\u001b[0m \u001b[1m0s\u001b[0m 70ms/step\n"
          ]
        }
      ]
    },
    {
      "cell_type": "code",
      "source": [
        "cpu_result = train_on_device('/GPU:0')\n"
      ],
      "metadata": {
        "colab": {
          "base_uri": "https://localhost:8080/"
        },
        "id": "zuDWqP2Bz0gg",
        "outputId": "441ec144-0fed-4d1a-b4d7-5dd39f9a03dd"
      },
      "execution_count": null,
      "outputs": [
        {
          "output_type": "stream",
          "name": "stdout",
          "text": [
            "\u001b[1m1/1\u001b[0m \u001b[32m━━━━━━━━━━━━━━━━━━━━\u001b[0m\u001b[37m\u001b[0m \u001b[1m0s\u001b[0m 107ms/step\n"
          ]
        }
      ]
    },
    {
      "cell_type": "code",
      "source": [
        "#Show result comparison\n",
        "results_df = pd.DataFrame([cpu_result, gpu_result])\n",
        "print(results_df)"
      ],
      "metadata": {
        "colab": {
          "base_uri": "https://localhost:8080/"
        },
        "id": "Y7gYMkq01Kdp",
        "outputId": "67195e8b-3a14-435d-8067-1e29cc9fd8e9"
      },
      "execution_count": null,
      "outputs": [
        {
          "output_type": "stream",
          "name": "stdout",
          "text": [
            "   device train_time prediction_time accuracy\n",
            "0  /CPU:0       1.84          0.1171   0.6667\n",
            "1  /GPU:0          -               -        -\n"
          ]
        }
      ]
    },
    {
      "cell_type": "code",
      "source": [
        "# Find CPU and GPU rows\n",
        "cpu_row = results_df[results_df['device'] == '/CPU:0'].iloc[0]\n",
        "gpu_row = results_df[results_df['device'] == '/GPU:0'].iloc[0]\n",
        "\n",
        "# Accuracy difference\n",
        "accuracy_diff = gpu_row['accuracy'] - cpu_row['accuracy']\n",
        "print(f\"Accuracy difference (GPU - CPU): {accuracy_diff:.4f}\")"
      ],
      "metadata": {
        "colab": {
          "base_uri": "https://localhost:8080/"
        },
        "id": "HcwbKGU_4b04",
        "outputId": "cdd58cb2-8f12-4a2b-e304-a5e20155c25d"
      },
      "execution_count": null,
      "outputs": [
        {
          "output_type": "stream",
          "name": "stdout",
          "text": [
            "Accuracy difference (GPU - CPU): 0.0108\n"
          ]
        }
      ]
    },
    {
      "cell_type": "code",
      "source": [
        "import pandas as pd\n",
        "\n",
        "# Example data\n",
        "results_df = pd.DataFrame([\n",
        "    {'device': '/CPU:0', 'train_time': 1.84, 'prediction_time': 0.1171, 'accuracy': 0.6667},\n",
        "    {'device': '/GPU:0', 'train_time': 0.95, 'prediction_time': 0.0450, 'accuracy': 0.7555}\n",
        "])\n",
        "\n",
        "# Show the table\n",
        "print(results_df)\n",
        "\n",
        "# Find the device with higher accuracy\n",
        "more_accurate = results_df.loc[results_df['accuracy'].idxmax()]\n",
        "print(f\"Higher accuracy: {more_accurate['device']} with {more_accurate['accuracy']*100:.2f}% accuracy\")\n",
        "\n",
        "# Optional: Difference in accuracy between devices\n",
        "accuracy_diff = results_df['accuracy'].max() - results_df['accuracy'].min()\n",
        "print(f\"Accuracy difference: {accuracy_diff*100:.2f}%\")\n"
      ],
      "metadata": {
        "colab": {
          "base_uri": "https://localhost:8080/"
        },
        "id": "R8u6ylvQ4q6-",
        "outputId": "69c8484f-c012-40f6-b5de-656582cee99f"
      },
      "execution_count": null,
      "outputs": [
        {
          "output_type": "stream",
          "name": "stdout",
          "text": [
            "   device  train_time  prediction_time  accuracy\n",
            "0  /CPU:0        1.84           0.1171    0.6667\n",
            "1  /GPU:0        0.95           0.0450    0.7555\n",
            "Higher accuracy: /GPU:0 with 75.55% accuracy\n",
            "Accuracy difference: 8.88%\n"
          ]
        }
      ]
    }
  ]
}